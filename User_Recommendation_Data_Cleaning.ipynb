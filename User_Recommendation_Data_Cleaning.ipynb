{
  "nbformat": 4,
  "nbformat_minor": 0,
  "metadata": {
    "colab": {
      "name": "User Recommendation Data Cleaning",
      "provenance": [],
      "collapsed_sections": []
    },
    "kernelspec": {
      "name": "python3",
      "display_name": "Python 3"
    }
  },
  "cells": [
    {
      "cell_type": "code",
      "metadata": {
        "id": "OI0LRhaSD0np",
        "colab_type": "code",
        "colab": {}
      },
      "source": [
        "import pandas as pd\n",
        "import numpy as np\n",
        "import sklearn"
      ],
      "execution_count": 0,
      "outputs": []
    },
    {
      "cell_type": "code",
      "metadata": {
        "id": "OUytc_hxW9Kq",
        "colab_type": "code",
        "colab": {}
      },
      "source": [
        "df = pd.read_csv(\"/content/sample_data/responses.csv\")"
      ],
      "execution_count": 0,
      "outputs": []
    },
    {
      "cell_type": "code",
      "metadata": {
        "id": "OUH91cwbXwJ5",
        "colab_type": "code",
        "outputId": "e4fb9944-9065-46d2-a300-cc66149993d6",
        "colab": {
          "base_uri": "https://localhost:8080/",
          "height": 629
        }
      },
      "source": [
        "df.head()"
      ],
      "execution_count": 5,
      "outputs": [
        {
          "output_type": "execute_result",
          "data": {
            "text/html": [
              "<div>\n",
              "<style scoped>\n",
              "    .dataframe tbody tr th:only-of-type {\n",
              "        vertical-align: middle;\n",
              "    }\n",
              "\n",
              "    .dataframe tbody tr th {\n",
              "        vertical-align: top;\n",
              "    }\n",
              "\n",
              "    .dataframe thead th {\n",
              "        text-align: right;\n",
              "    }\n",
              "</style>\n",
              "<table border=\"1\" class=\"dataframe\">\n",
              "  <thead>\n",
              "    <tr style=\"text-align: right;\">\n",
              "      <th></th>\n",
              "      <th>Timestamp</th>\n",
              "      <th>Who is your idol?</th>\n",
              "      <th>What are your hobbies?</th>\n",
              "      <th>What is your passion?</th>\n",
              "      <th>What are your goals?</th>\n",
              "      <th>What do you look for when befriending someone?</th>\n",
              "      <th>If reading is one of your hobbies, what types of books do you like reading?</th>\n",
              "      <th>Are you an athlete/ do you consider yourself a sportsman?</th>\n",
              "      <th>How does being an athlete make you a better person?</th>\n",
              "      <th>What does the word “integrity” mean to you?</th>\n",
              "      <th>IMPORTANT: What are some skills you would like to pick up? These could be both professional or just a hobby. (Limit to 5)</th>\n",
              "      <th>IMPORTANT: What are some productive tasks you wish you had more motivation for? (Limit to 5)</th>\n",
              "    </tr>\n",
              "  </thead>\n",
              "  <tbody>\n",
              "    <tr>\n",
              "      <th>0</th>\n",
              "      <td>6/6/2020 10:49:04</td>\n",
              "      <td>My dad.</td>\n",
              "      <td>Reading, writing, playing throwball, fangirlin...</td>\n",
              "      <td>Writing</td>\n",
              "      <td>Some of them are to publish a book, to design ...</td>\n",
              "      <td>Honesty.</td>\n",
              "      <td>Romance, award winners, anything suggested by ...</td>\n",
              "      <td>I used to, yes.</td>\n",
              "      <td>I felt like I was an all rounded individual. B...</td>\n",
              "      <td>Integrity is nothing hidden, being truthful an...</td>\n",
              "      <td>How build my personal brand, how to sketch, ho...</td>\n",
              "      <td>Haha writing regularly, practicing coding, coo...</td>\n",
              "    </tr>\n",
              "    <tr>\n",
              "      <th>1</th>\n",
              "      <td>6/6/2020 10:59:16</td>\n",
              "      <td>Sadhguru Jaggi Vasudev</td>\n",
              "      <td>Meditation, reading, watching movies, trekking...</td>\n",
              "      <td>To see people in my life are happy</td>\n",
              "      <td>Financial freedom, traveling the globe and vis...</td>\n",
              "      <td>Like-mindedness</td>\n",
              "      <td>How-to 's, spirituality, personal development</td>\n",
              "      <td>No</td>\n",
              "      <td>Improves health</td>\n",
              "      <td>Honoring one's word.</td>\n",
              "      <td>Entrepreneurship, understanding natural histor...</td>\n",
              "      <td>Improving technical skills, learning accountin...</td>\n",
              "    </tr>\n",
              "    <tr>\n",
              "      <th>2</th>\n",
              "      <td>6/6/2020 11:11:47</td>\n",
              "      <td>None</td>\n",
              "      <td>Reading</td>\n",
              "      <td>Writing</td>\n",
              "      <td>Be extraordinary</td>\n",
              "      <td>Intellectual compatibility</td>\n",
              "      <td>Economics, history, biographies</td>\n",
              "      <td>No</td>\n",
              "      <td>Not applicable</td>\n",
              "      <td>Standing by what you believe</td>\n",
              "      <td>How to interact and understand people, how to ...</td>\n",
              "      <td>Networking, finding something I am extremely p...</td>\n",
              "    </tr>\n",
              "    <tr>\n",
              "      <th>3</th>\n",
              "      <td>6/6/2020 11:13:15</td>\n",
              "      <td>no one</td>\n",
              "      <td>rock</td>\n",
              "      <td>computers</td>\n",
              "      <td>become a hacker</td>\n",
              "      <td>their personality</td>\n",
              "      <td>technology books</td>\n",
              "      <td>ronaldo</td>\n",
              "      <td>more energetic</td>\n",
              "      <td>being good</td>\n",
              "      <td>read faster, code smarter</td>\n",
              "      <td>coding</td>\n",
              "    </tr>\n",
              "    <tr>\n",
              "      <th>4</th>\n",
              "      <td>6/6/2020 11:16:57</td>\n",
              "      <td>SRK</td>\n",
              "      <td>Reading, Writing, Talking</td>\n",
              "      <td>Tea</td>\n",
              "      <td>Peace</td>\n",
              "      <td>Nature</td>\n",
              "      <td>Personality Development</td>\n",
              "      <td>yes</td>\n",
              "      <td>Sportsmanship &amp; Good health</td>\n",
              "      <td>honouring my words</td>\n",
              "      <td>Skeeing, Sky diving, Scuba dive</td>\n",
              "      <td>Waking up early</td>\n",
              "    </tr>\n",
              "  </tbody>\n",
              "</table>\n",
              "</div>"
            ],
            "text/plain": [
              "           Timestamp  ... IMPORTANT: What are some productive tasks you wish you had more motivation for? (Limit to 5)\n",
              "0  6/6/2020 10:49:04  ...  Haha writing regularly, practicing coding, coo...                                          \n",
              "1  6/6/2020 10:59:16  ...  Improving technical skills, learning accountin...                                          \n",
              "2  6/6/2020 11:11:47  ...  Networking, finding something I am extremely p...                                          \n",
              "3  6/6/2020 11:13:15  ...                                             coding                                          \n",
              "4  6/6/2020 11:16:57  ...                                   Waking up early                                           \n",
              "\n",
              "[5 rows x 12 columns]"
            ]
          },
          "metadata": {
            "tags": []
          },
          "execution_count": 5
        }
      ]
    },
    {
      "cell_type": "code",
      "metadata": {
        "id": "qYHGBZxVaRzB",
        "colab_type": "code",
        "colab": {}
      },
      "source": [
        "import nltk\n",
        "\n",
        "# Put sentence through tokenizer to remove\n",
        "# punctuation and get tokens in sentence\n",
        "\n",
        "sample_text = \"This is a test example\"\n",
        "tokenizer = nltk.RegexpTokenizer(r\"\\w+\")\n",
        "new_words = tokenizer.tokenize(sample_text)"
      ],
      "execution_count": 0,
      "outputs": []
    },
    {
      "cell_type": "code",
      "metadata": {
        "id": "qJe-9pfsaxm0",
        "colab_type": "code",
        "outputId": "3a3d68bf-bfdb-4fc5-8274-a28391203393",
        "colab": {
          "base_uri": "https://localhost:8080/",
          "height": 34
        }
      },
      "source": [
        "new_words"
      ],
      "execution_count": 8,
      "outputs": [
        {
          "output_type": "execute_result",
          "data": {
            "text/plain": [
              "['This', 'is', 'a', 'test', 'example']"
            ]
          },
          "metadata": {
            "tags": []
          },
          "execution_count": 8
        }
      ]
    },
    {
      "cell_type": "code",
      "metadata": {
        "id": "UAMWyI2Oc19B",
        "colab_type": "code",
        "outputId": "7cb365f4-bd07-407f-f39e-d8d352c01150",
        "colab": {
          "base_uri": "https://localhost:8080/",
          "height": 34
        }
      },
      "source": [
        "new_words = [word.lower() for word in new_words]\n",
        "new_words"
      ],
      "execution_count": 9,
      "outputs": [
        {
          "output_type": "execute_result",
          "data": {
            "text/plain": [
              "['this', 'is', 'a', 'test', 'example']"
            ]
          },
          "metadata": {
            "tags": []
          },
          "execution_count": 9
        }
      ]
    },
    {
      "cell_type": "code",
      "metadata": {
        "id": "11z0JOCva3kq",
        "colab_type": "code",
        "outputId": "0746c21c-e9fe-4641-8efe-a5078f97130f",
        "colab": {
          "base_uri": "https://localhost:8080/",
          "height": 68
        }
      },
      "source": [
        "import nltk\n",
        "nltk.download('stopwords')"
      ],
      "execution_count": 11,
      "outputs": [
        {
          "output_type": "stream",
          "text": [
            "[nltk_data] Downloading package stopwords to /root/nltk_data...\n",
            "[nltk_data]   Package stopwords is already up-to-date!\n"
          ],
          "name": "stdout"
        },
        {
          "output_type": "execute_result",
          "data": {
            "text/plain": [
              "True"
            ]
          },
          "metadata": {
            "tags": []
          },
          "execution_count": 11
        }
      ]
    },
    {
      "cell_type": "code",
      "metadata": {
        "id": "ZWtsqLGxKxjF",
        "colab_type": "code",
        "colab": {}
      },
      "source": [
        "# Perform stop word removal\n",
        "from nltk.corpus import stopwords\n",
        "\n",
        "stop_words = set(stopwords.words('english')) \n",
        "filtered_sentence = [w for w in new_words if not w in stop_words] \n",
        "filtered_sentence = [] \n",
        "  \n",
        "for w in new_words: \n",
        "    if w not in stop_words: \n",
        "        filtered_sentence.append(w)"
      ],
      "execution_count": 0,
      "outputs": []
    },
    {
      "cell_type": "code",
      "metadata": {
        "id": "BcybOqhNcIGe",
        "colab_type": "code",
        "outputId": "48d9faa5-4f06-4134-fcc9-9f5718338626",
        "colab": {
          "base_uri": "https://localhost:8080/",
          "height": 34
        }
      },
      "source": [
        "filtered_sentence"
      ],
      "execution_count": 15,
      "outputs": [
        {
          "output_type": "execute_result",
          "data": {
            "text/plain": [
              "['test', 'example']"
            ]
          },
          "metadata": {
            "tags": []
          },
          "execution_count": 15
        }
      ]
    },
    {
      "cell_type": "code",
      "metadata": {
        "id": "zNqK1VOXcii6",
        "colab_type": "code",
        "colab": {}
      },
      "source": [
        "# Set up end cleaning pipeline\n",
        "\n",
        "def clean_sentence(sentence):\n",
        "  tokenizer = nltk.RegexpTokenizer(r\"\\w+\")\n",
        "  new_words = tokenizer.tokenize(sentence)\n",
        "  new_words = [word.lower() for word in new_words]\n",
        "  stop_words = set(stopwords.words('english')) \n",
        "  filtered_sentence = [w for w in new_words if not w in stop_words] \n",
        "  filtered_sentence = [] \n",
        "  \n",
        "  for w in new_words: \n",
        "    if w not in stop_words: \n",
        "        filtered_sentence.append(w)\n",
        "  return filtered_sentence"
      ],
      "execution_count": 0,
      "outputs": []
    },
    {
      "cell_type": "code",
      "metadata": {
        "id": "9F6SZJLmdtZm",
        "colab_type": "code",
        "outputId": "6cff6864-05d1-4c48-bc40-bd2624ff9a70",
        "colab": {
          "base_uri": "https://localhost:8080/",
          "height": 34
        }
      },
      "source": [
        "clean_sentence(\"This is a test example.\")"
      ],
      "execution_count": 17,
      "outputs": [
        {
          "output_type": "execute_result",
          "data": {
            "text/plain": [
              "['test', 'example']"
            ]
          },
          "metadata": {
            "tags": []
          },
          "execution_count": 17
        }
      ]
    },
    {
      "cell_type": "code",
      "metadata": {
        "id": "3hZjGsSQeBIz",
        "colab_type": "code",
        "outputId": "355af318-5f87-4946-d2a0-1d9f10783d63",
        "colab": {
          "base_uri": "https://localhost:8080/",
          "height": 867
        }
      },
      "source": [
        "# Generate hobbies list\n",
        "\n",
        "hobbies = df[\"What are your hobbies?\"]\n",
        "hobbies"
      ],
      "execution_count": 18,
      "outputs": [
        {
          "output_type": "execute_result",
          "data": {
            "text/plain": [
              "0     Reading, writing, playing throwball, fangirlin...\n",
              "1     Meditation, reading, watching movies, trekking...\n",
              "2                                              Reading \n",
              "3                                                  rock\n",
              "4                            Reading, Writing, Talking \n",
              "5     Writing, Reading, yoga, exercise, listening to...\n",
              "6                                             Singing? \n",
              "7               investing, photography, cricket, boxing\n",
              "8                          Reading, Listening to music.\n",
              "9                          Basketball, gaming, reading \n",
              "10              fitness, yoga, coding, netflix, reading\n",
              "11                      Designing, hackathons and music\n",
              "12                         Martial arts, music, fitness\n",
              "13                                   Cooking, Gardening\n",
              "14                                        Travelling,  \n",
              "15                       Music , long drives , reading \n",
              "16                                   Reading and travel\n",
              "17                                  Listening to music \n",
              "18                                I make YouTube videos\n",
              "19    Weeb stuff, programming, gaming, learning lang...\n",
              "20                            Books, movies, travelling\n",
              "21    Writing, reading, videogames and history. Espe...\n",
              "22                                              Gaming \n",
              "23                  Gaming/writing/music/midnight walks\n",
              "24                                         Working out \n",
              "25                                       kanbun kundoku\n",
              "26    3D Printing, coding, writing, listening to aud...\n",
              "27                        Fishing, cooking, and reading\n",
              "28                                  Sports, Programming\n",
              "29                                        Baking, Music\n",
              "30                         Piano, Reading, and Swimming\n",
              "31                                 Reading, video games\n",
              "32                                                  NaN\n",
              "33               Drawing, painting, trek, make friends \n",
              "34                                                 Hell\n",
              "35                                       Gaming, sports\n",
              "36    Cricket, financial literacy, self development,...\n",
              "37                               Soccer, music, cooking\n",
              "38                                 Dancing and reading \n",
              "39                                          Travelling \n",
              "40                     Basketball, cooking, video games\n",
              "41                                          Travelling \n",
              "42                           Reading, Writing, Talking \n",
              "43                                 Video games, Fitness\n",
              "44                            Swimming, Gaming, Writing\n",
              "45             Exercising, cooking, playing video games\n",
              "46              Video games, sports, writing, reading. \n",
              "47                Sports, video games, fitness, reading\n",
              "48                          Music, reading and cycling \n",
              "Name: What are your hobbies?, dtype: object"
            ]
          },
          "metadata": {
            "tags": []
          },
          "execution_count": 18
        }
      ]
    },
    {
      "cell_type": "code",
      "metadata": {
        "id": "NsdiK4BUgiMZ",
        "colab_type": "code",
        "colab": {}
      },
      "source": [
        "hobbies_array = np.array(hobbies)"
      ],
      "execution_count": 0,
      "outputs": []
    },
    {
      "cell_type": "code",
      "metadata": {
        "id": "xSKP5TdbeTng",
        "colab_type": "code",
        "outputId": "018ba2fd-61fd-4392-8c3b-5df5f916752b",
        "colab": {
          "base_uri": "https://localhost:8080/",
          "height": 697
        }
      },
      "source": [
        "# Compute the new hobbies array\n",
        "\n",
        "for i in range(len(hobbies_array)):\n",
        "  hobby = hobbies_array[i]\n",
        "  try:\n",
        "    hobbies_array[i] = clean_sentence(hobby)\n",
        "  except:\n",
        "    hobbies_array[i] = []\n",
        "hobbies_array"
      ],
      "execution_count": 20,
      "outputs": [
        {
          "output_type": "execute_result",
          "data": {
            "text/plain": [
              "array([list(['reading', 'writing', 'playing', 'throwball', 'fangirling', 'lucifer', 'recently', 'started', 'bullet', 'journaling']),\n",
              "       list(['meditation', 'reading', 'watching', 'movies', 'trekking', 'jogging']),\n",
              "       list(['reading']), list(['rock']),\n",
              "       list(['reading', 'writing', 'talking']),\n",
              "       list(['writing', 'reading', 'yoga', 'exercise', 'listening', 'music']),\n",
              "       list(['singing']),\n",
              "       list(['investing', 'photography', 'cricket', 'boxing']),\n",
              "       list(['reading', 'listening', 'music']),\n",
              "       list(['basketball', 'gaming', 'reading']),\n",
              "       list(['fitness', 'yoga', 'coding', 'netflix', 'reading']),\n",
              "       list(['designing', 'hackathons', 'music']),\n",
              "       list(['martial', 'arts', 'music', 'fitness']),\n",
              "       list(['cooking', 'gardening']), list(['travelling']),\n",
              "       list(['music', 'long', 'drives', 'reading']),\n",
              "       list(['reading', 'travel']), list(['listening', 'music']),\n",
              "       list(['make', 'youtube', 'videos']),\n",
              "       list(['weeb', 'stuff', 'programming', 'gaming', 'learning', 'languages']),\n",
              "       list(['books', 'movies', 'travelling']),\n",
              "       list(['writing', 'reading', 'videogames', 'history', 'especially', 'psychology']),\n",
              "       list(['gaming']),\n",
              "       list(['gaming', 'writing', 'music', 'midnight', 'walks']),\n",
              "       list(['working']), list(['kanbun', 'kundoku']),\n",
              "       list(['3d', 'printing', 'coding', 'writing', 'listening', 'audiobooks', 'watching', 'youtube']),\n",
              "       list(['fishing', 'cooking', 'reading']),\n",
              "       list(['sports', 'programming']), list(['baking', 'music']),\n",
              "       list(['piano', 'reading', 'swimming']),\n",
              "       list(['reading', 'video', 'games']), list([]),\n",
              "       list(['drawing', 'painting', 'trek', 'make', 'friends']),\n",
              "       list(['hell']), list(['gaming', 'sports']),\n",
              "       list(['cricket', 'financial', 'literacy', 'self', 'development', 'fitness']),\n",
              "       list(['soccer', 'music', 'cooking']), list(['dancing', 'reading']),\n",
              "       list(['travelling']),\n",
              "       list(['basketball', 'cooking', 'video', 'games']),\n",
              "       list(['travelling']), list(['reading', 'writing', 'talking']),\n",
              "       list(['video', 'games', 'fitness']),\n",
              "       list(['swimming', 'gaming', 'writing']),\n",
              "       list(['exercising', 'cooking', 'playing', 'video', 'games']),\n",
              "       list(['video', 'games', 'sports', 'writing', 'reading']),\n",
              "       list(['sports', 'video', 'games', 'fitness', 'reading']),\n",
              "       list(['music', 'reading', 'cycling'])], dtype=object)"
            ]
          },
          "metadata": {
            "tags": []
          },
          "execution_count": 20
        }
      ]
    },
    {
      "cell_type": "code",
      "metadata": {
        "id": "InGgUx6HeWZQ",
        "colab_type": "code",
        "outputId": "21ef2417-8a7a-40e1-dd68-49f817a4f5c9",
        "colab": {
          "base_uri": "https://localhost:8080/",
          "height": 1000
        }
      },
      "source": [
        "# Get list of unique values from the hobbies array \n",
        "hobbies_set = []\n",
        "for hobby in hobbies_array:\n",
        "  hobbies_set.extend(hobby)\n",
        "hobbies_set = set(hobbies_set)\n",
        "hobbies_set"
      ],
      "execution_count": 21,
      "outputs": [
        {
          "output_type": "execute_result",
          "data": {
            "text/plain": [
              "{'3d',\n",
              " 'arts',\n",
              " 'audiobooks',\n",
              " 'baking',\n",
              " 'basketball',\n",
              " 'books',\n",
              " 'boxing',\n",
              " 'bullet',\n",
              " 'coding',\n",
              " 'cooking',\n",
              " 'cricket',\n",
              " 'cycling',\n",
              " 'dancing',\n",
              " 'designing',\n",
              " 'development',\n",
              " 'drawing',\n",
              " 'drives',\n",
              " 'especially',\n",
              " 'exercise',\n",
              " 'exercising',\n",
              " 'fangirling',\n",
              " 'financial',\n",
              " 'fishing',\n",
              " 'fitness',\n",
              " 'friends',\n",
              " 'games',\n",
              " 'gaming',\n",
              " 'gardening',\n",
              " 'hackathons',\n",
              " 'hell',\n",
              " 'history',\n",
              " 'investing',\n",
              " 'jogging',\n",
              " 'journaling',\n",
              " 'kanbun',\n",
              " 'kundoku',\n",
              " 'languages',\n",
              " 'learning',\n",
              " 'listening',\n",
              " 'literacy',\n",
              " 'long',\n",
              " 'lucifer',\n",
              " 'make',\n",
              " 'martial',\n",
              " 'meditation',\n",
              " 'midnight',\n",
              " 'movies',\n",
              " 'music',\n",
              " 'netflix',\n",
              " 'painting',\n",
              " 'photography',\n",
              " 'piano',\n",
              " 'playing',\n",
              " 'printing',\n",
              " 'programming',\n",
              " 'psychology',\n",
              " 'reading',\n",
              " 'recently',\n",
              " 'rock',\n",
              " 'self',\n",
              " 'singing',\n",
              " 'soccer',\n",
              " 'sports',\n",
              " 'started',\n",
              " 'stuff',\n",
              " 'swimming',\n",
              " 'talking',\n",
              " 'throwball',\n",
              " 'travel',\n",
              " 'travelling',\n",
              " 'trek',\n",
              " 'trekking',\n",
              " 'video',\n",
              " 'videogames',\n",
              " 'videos',\n",
              " 'walks',\n",
              " 'watching',\n",
              " 'weeb',\n",
              " 'working',\n",
              " 'writing',\n",
              " 'yoga',\n",
              " 'youtube'}"
            ]
          },
          "metadata": {
            "tags": []
          },
          "execution_count": 21
        }
      ]
    },
    {
      "cell_type": "code",
      "metadata": {
        "id": "Wi5qpo7lf0GB",
        "colab_type": "code",
        "outputId": "f0525c88-c24e-40b2-c905-f6b18597fea7",
        "colab": {
          "base_uri": "https://localhost:8080/",
          "height": 867
        }
      },
      "source": [
        "passion = df[\"What is your passion?\"]\n",
        "passion"
      ],
      "execution_count": 22,
      "outputs": [
        {
          "output_type": "execute_result",
          "data": {
            "text/plain": [
              "0                                         Writing \n",
              "1               To see people in my life are happy\n",
              "2                                         Writing \n",
              "3                                        computers\n",
              "4                                              Tea\n",
              "5                                  Writing and art\n",
              "6                                            Yikes\n",
              "7                                 Entrepreneurship\n",
              "8                                      Programming\n",
              "9                                 Content creation\n",
              "10                                      travelling\n",
              "11                                      innovation\n",
              "12                                    Martial arts\n",
              "13                To be the best version of myself\n",
              "14                                        Cricket \n",
              "15                                         Doctor \n",
              "16                                             Job\n",
              "17                                            None\n",
              "18                           I like to make things\n",
              "19                        Programming android apps\n",
              "20                                             NaN\n",
              "21                    Writing, and helping people.\n",
              "22                        Figuring out new things \n",
              "23                          Cars and trchnologies \n",
              "24                                       Autosport\n",
              "25                                  kanbun kundoku\n",
              "26                                    Making stuff\n",
              "27                                  Helping others\n",
              "28         Creating products that will help people\n",
              "29                     Baking, Makeup and skincare\n",
              "30      Learning new things and meeting new people\n",
              "31                                    Real estate \n",
              "32                                             NaN\n",
              "33                                             Art\n",
              "34                                            Hell\n",
              "35                                        Physics \n",
              "36                                         Cricket\n",
              "37                 Music, Machine Learning, soccer\n",
              "38                                    I have none \n",
              "39    One of my greatest passion is helping others\n",
              "40                       Basketball or video games\n",
              "41                                       SPORTS!!!\n",
              "42                                             Tea\n",
              "43                                         history\n",
              "44                                         Physics\n",
              "45                                        Not sure\n",
              "46                                        Writing.\n",
              "47                                        Learning\n",
              "48                                    Mathematics \n",
              "Name: What is your passion?, dtype: object"
            ]
          },
          "metadata": {
            "tags": []
          },
          "execution_count": 22
        }
      ]
    },
    {
      "cell_type": "code",
      "metadata": {
        "id": "kG-SyCVqgv6Z",
        "colab_type": "code",
        "outputId": "2ae0fa4b-5e79-4881-83d3-43c43ea629c5",
        "colab": {
          "base_uri": "https://localhost:8080/",
          "height": 1000
        }
      },
      "source": [
        "passion_array = np.array(passion)\n",
        "\n",
        "# Compute the new passion array\n",
        "\n",
        "for i in range(len(passion_array)):\n",
        "  passion = passion_array[i]\n",
        "  try:\n",
        "    passion_array[i] = clean_sentence(passion)\n",
        "  except:\n",
        "    passion_array[i] = []\n",
        "\n",
        "# Get list of unique values from the passion array \n",
        "passion_set = []\n",
        "for passion in passion_array:\n",
        "  passion_set.extend(passion)\n",
        "passion_set = set(passion_set)\n",
        "passion_set"
      ],
      "execution_count": 23,
      "outputs": [
        {
          "output_type": "execute_result",
          "data": {
            "text/plain": [
              "{'android',\n",
              " 'apps',\n",
              " 'art',\n",
              " 'arts',\n",
              " 'autosport',\n",
              " 'baking',\n",
              " 'basketball',\n",
              " 'best',\n",
              " 'cars',\n",
              " 'computers',\n",
              " 'content',\n",
              " 'creating',\n",
              " 'creation',\n",
              " 'cricket',\n",
              " 'doctor',\n",
              " 'entrepreneurship',\n",
              " 'estate',\n",
              " 'figuring',\n",
              " 'games',\n",
              " 'greatest',\n",
              " 'happy',\n",
              " 'hell',\n",
              " 'help',\n",
              " 'helping',\n",
              " 'history',\n",
              " 'innovation',\n",
              " 'job',\n",
              " 'kanbun',\n",
              " 'kundoku',\n",
              " 'learning',\n",
              " 'life',\n",
              " 'like',\n",
              " 'machine',\n",
              " 'make',\n",
              " 'makeup',\n",
              " 'making',\n",
              " 'martial',\n",
              " 'mathematics',\n",
              " 'meeting',\n",
              " 'music',\n",
              " 'new',\n",
              " 'none',\n",
              " 'one',\n",
              " 'others',\n",
              " 'passion',\n",
              " 'people',\n",
              " 'physics',\n",
              " 'products',\n",
              " 'programming',\n",
              " 'real',\n",
              " 'see',\n",
              " 'skincare',\n",
              " 'soccer',\n",
              " 'sports',\n",
              " 'stuff',\n",
              " 'sure',\n",
              " 'tea',\n",
              " 'things',\n",
              " 'travelling',\n",
              " 'trchnologies',\n",
              " 'version',\n",
              " 'video',\n",
              " 'writing',\n",
              " 'yikes'}"
            ]
          },
          "metadata": {
            "tags": []
          },
          "execution_count": 23
        }
      ]
    },
    {
      "cell_type": "code",
      "metadata": {
        "id": "Ys_KBaCjhJF2",
        "colab_type": "code",
        "outputId": "d40d88a5-9235-41cf-a535-3bdf52eb20c6",
        "colab": {
          "base_uri": "https://localhost:8080/",
          "height": 867
        }
      },
      "source": [
        "goals = df[\"What are your goals?\"]\n",
        "goals"
      ],
      "execution_count": 24,
      "outputs": [
        {
          "output_type": "execute_result",
          "data": {
            "text/plain": [
              "0     Some of them are to publish a book, to design ...\n",
              "1     Financial freedom, traveling the globe and vis...\n",
              "2                                     Be extraordinary \n",
              "3                                       become a hacker\n",
              "4                                                 Peace\n",
              "5     I want to publish a book someday and also be a...\n",
              "6                                                 Yikes\n",
              "7                               To start my own company\n",
              "8                        Becoming a person who matters.\n",
              "9                 Getting rich and travelling the workd\n",
              "10                                         entrepreneur\n",
              "11                               become an entrepreneur\n",
              "12                               To be a better person \n",
              "13                                   Still figuring out\n",
              "14                Travel to as many countries as I can \n",
              "15                               To be the best doctor \n",
              "16     To achieve the highest post in the organization \n",
              "17                                Get a well paying job\n",
              "18                                            happiness\n",
              "19    To become an independent developer of mobile a...\n",
              "20                                                  NaN\n",
              "21    To become a clinical psychologist and write a ...\n",
              "22             Do something useful with my intelligence\n",
              "23    Becoming a reputable civil engineer with compu...\n",
              "24                                        Be a captain \n",
              "25                                 to retire on pension\n",
              "26    Stability and a chance to do what I want to wo...\n",
              "27                 To graduate university and get a job\n",
              "28                        Getting better at programming\n",
              "29                        To be a businesswoman one day\n",
              "30    I want to be financially independent, with a s...\n",
              "31      To have multiple investments/streams of income \n",
              "32      To have multiple investments/streams of income \n",
              "33              Bring happiness, community development \n",
              "34                                      To become a god\n",
              "35    To become successful enough to support my hobbies\n",
              "36    Financial independence, become professional at...\n",
              "37                         Be in a respectable position\n",
              "38                                         I have none \n",
              "39                Increase duties and responsibilities \n",
              "40                                    To be successful \n",
              "41                              make 10 million by 2025\n",
              "42                                                Peace\n",
              "43                           To live a comfortable life\n",
              "44                       Make a difference to the world\n",
              "45    Become financially independent, become physica...\n",
              "46                       Write a book. Get a good job. \n",
              "47                    To be the best version of myself \n",
              "48                            Becoming a mathematician \n",
              "Name: What are your goals?, dtype: object"
            ]
          },
          "metadata": {
            "tags": []
          },
          "execution_count": 24
        }
      ]
    },
    {
      "cell_type": "code",
      "metadata": {
        "id": "vqIFuEBlhZfK",
        "colab_type": "code",
        "outputId": "42ab9d99-905c-4c11-8073-88120af9de97",
        "colab": {
          "base_uri": "https://localhost:8080/",
          "height": 1000
        }
      },
      "source": [
        "goals_array = np.array(goals)\n",
        "\n",
        "# Compute the new goals array\n",
        "\n",
        "for i in range(len(goals_array)):\n",
        "  goal = goals_array[i]\n",
        "  try:\n",
        "    goals_array[i] = clean_sentence(goal)\n",
        "  except:\n",
        "    goals_array[i] = []\n",
        "\n",
        "# Get list of unique values from the goals array \n",
        "goal_set = []\n",
        "for goal in goals_array:\n",
        "  goal_set.extend(goal)\n",
        "goal_set = set(goal_set)\n",
        "goal_set"
      ],
      "execution_count": 25,
      "outputs": [
        {
          "output_type": "execute_result",
          "data": {
            "text/plain": [
              "{'10',\n",
              " '2025',\n",
              " 'achieve',\n",
              " 'also',\n",
              " 'applications',\n",
              " 'athlete',\n",
              " 'back',\n",
              " 'become',\n",
              " 'becoming',\n",
              " 'best',\n",
              " 'better',\n",
              " 'book',\n",
              " 'bring',\n",
              " 'businesswoman',\n",
              " 'captain',\n",
              " 'chance',\n",
              " 'civil',\n",
              " 'clinical',\n",
              " 'comfortable',\n",
              " 'communities',\n",
              " 'community',\n",
              " 'company',\n",
              " 'computing',\n",
              " 'countries',\n",
              " 'day',\n",
              " 'dentist',\n",
              " 'design',\n",
              " 'developer',\n",
              " 'development',\n",
              " 'difference',\n",
              " 'doctor',\n",
              " 'duties',\n",
              " 'engineer',\n",
              " 'enough',\n",
              " 'entrepreneur',\n",
              " 'exotic',\n",
              " 'extraordinary',\n",
              " 'family',\n",
              " 'figuring',\n",
              " 'financial',\n",
              " 'financially',\n",
              " 'fit',\n",
              " 'freedom',\n",
              " 'get',\n",
              " 'getting',\n",
              " 'give',\n",
              " 'globe',\n",
              " 'god',\n",
              " 'good',\n",
              " 'graduate',\n",
              " 'hacker',\n",
              " 'happiness',\n",
              " 'highest',\n",
              " 'hobbies',\n",
              " 'income',\n",
              " 'increase',\n",
              " 'independence',\n",
              " 'independent',\n",
              " 'intelligence',\n",
              " 'investments',\n",
              " 'job',\n",
              " 'life',\n",
              " 'live',\n",
              " 'make',\n",
              " 'management',\n",
              " 'many',\n",
              " 'mathematician',\n",
              " 'matters',\n",
              " 'million',\n",
              " 'mobile',\n",
              " 'multiple',\n",
              " 'none',\n",
              " 'one',\n",
              " 'organization',\n",
              " 'paying',\n",
              " 'peace',\n",
              " 'pension',\n",
              " 'person',\n",
              " 'physically',\n",
              " 'places',\n",
              " 'position',\n",
              " 'post',\n",
              " 'product',\n",
              " 'professional',\n",
              " 'programming',\n",
              " 'psychologist',\n",
              " 'publish',\n",
              " 'published',\n",
              " 'reputable',\n",
              " 'respectable',\n",
              " 'responsibilities',\n",
              " 'retire',\n",
              " 'rich',\n",
              " 'side',\n",
              " 'skilled',\n",
              " 'skills',\n",
              " 'someday',\n",
              " 'something',\n",
              " 'stability',\n",
              " 'stable',\n",
              " 'start',\n",
              " 'still',\n",
              " 'streams',\n",
              " 'successful',\n",
              " 'support',\n",
              " 'tech',\n",
              " 'tesla',\n",
              " 'travel',\n",
              " 'traveling',\n",
              " 'travelling',\n",
              " 'university',\n",
              " 'useful',\n",
              " 'version',\n",
              " 'visiting',\n",
              " 'want',\n",
              " 'wealth',\n",
              " 'well',\n",
              " 'work',\n",
              " 'workd',\n",
              " 'world',\n",
              " 'write',\n",
              " 'yikes'}"
            ]
          },
          "metadata": {
            "tags": []
          },
          "execution_count": 25
        }
      ]
    },
    {
      "cell_type": "code",
      "metadata": {
        "id": "or_GbF4IhpJo",
        "colab_type": "code",
        "outputId": "dd36973d-2536-4dea-a5e9-8522ffafb734",
        "colab": {
          "base_uri": "https://localhost:8080/",
          "height": 1000
        }
      },
      "source": [
        "from collections import defaultdict\n",
        "\n",
        "hobby_counts = defaultdict(int)\n",
        "for hobbies in hobbies_array:\n",
        "  for hobby in hobbies:\n",
        "    hobby_counts[hobby] += 1\n",
        "hobby_counts"
      ],
      "execution_count": 26,
      "outputs": [
        {
          "output_type": "execute_result",
          "data": {
            "text/plain": [
              "defaultdict(int,\n",
              "            {'3d': 1,\n",
              "             'arts': 1,\n",
              "             'audiobooks': 1,\n",
              "             'baking': 1,\n",
              "             'basketball': 2,\n",
              "             'books': 1,\n",
              "             'boxing': 1,\n",
              "             'bullet': 1,\n",
              "             'coding': 2,\n",
              "             'cooking': 5,\n",
              "             'cricket': 2,\n",
              "             'cycling': 1,\n",
              "             'dancing': 1,\n",
              "             'designing': 1,\n",
              "             'development': 1,\n",
              "             'drawing': 1,\n",
              "             'drives': 1,\n",
              "             'especially': 1,\n",
              "             'exercise': 1,\n",
              "             'exercising': 1,\n",
              "             'fangirling': 1,\n",
              "             'financial': 1,\n",
              "             'fishing': 1,\n",
              "             'fitness': 5,\n",
              "             'friends': 1,\n",
              "             'games': 6,\n",
              "             'gaming': 6,\n",
              "             'gardening': 1,\n",
              "             'hackathons': 1,\n",
              "             'hell': 1,\n",
              "             'history': 1,\n",
              "             'investing': 1,\n",
              "             'jogging': 1,\n",
              "             'journaling': 1,\n",
              "             'kanbun': 1,\n",
              "             'kundoku': 1,\n",
              "             'languages': 1,\n",
              "             'learning': 1,\n",
              "             'listening': 4,\n",
              "             'literacy': 1,\n",
              "             'long': 1,\n",
              "             'lucifer': 1,\n",
              "             'make': 2,\n",
              "             'martial': 1,\n",
              "             'meditation': 1,\n",
              "             'midnight': 1,\n",
              "             'movies': 2,\n",
              "             'music': 10,\n",
              "             'netflix': 1,\n",
              "             'painting': 1,\n",
              "             'photography': 1,\n",
              "             'piano': 1,\n",
              "             'playing': 2,\n",
              "             'printing': 1,\n",
              "             'programming': 2,\n",
              "             'psychology': 1,\n",
              "             'reading': 19,\n",
              "             'recently': 1,\n",
              "             'rock': 1,\n",
              "             'self': 1,\n",
              "             'singing': 1,\n",
              "             'soccer': 1,\n",
              "             'sports': 4,\n",
              "             'started': 1,\n",
              "             'stuff': 1,\n",
              "             'swimming': 2,\n",
              "             'talking': 2,\n",
              "             'throwball': 1,\n",
              "             'travel': 1,\n",
              "             'travelling': 4,\n",
              "             'trek': 1,\n",
              "             'trekking': 1,\n",
              "             'video': 6,\n",
              "             'videogames': 1,\n",
              "             'videos': 1,\n",
              "             'walks': 1,\n",
              "             'watching': 2,\n",
              "             'weeb': 1,\n",
              "             'working': 1,\n",
              "             'writing': 9,\n",
              "             'yoga': 2,\n",
              "             'youtube': 2})"
            ]
          },
          "metadata": {
            "tags": []
          },
          "execution_count": 26
        }
      ]
    },
    {
      "cell_type": "code",
      "metadata": {
        "id": "jN6f7sz2inZn",
        "colab_type": "code",
        "outputId": "c4b8ec34-df0b-4965-ab97-5a2c3df57c4d",
        "colab": {
          "base_uri": "https://localhost:8080/",
          "height": 1000
        }
      },
      "source": [
        "passion_counts = defaultdict(int)\n",
        "for passions in passion_array:\n",
        "  for passion in passions:\n",
        "    passion_counts[passion] += 1\n",
        "passion_counts"
      ],
      "execution_count": 27,
      "outputs": [
        {
          "output_type": "execute_result",
          "data": {
            "text/plain": [
              "defaultdict(int,\n",
              "            {'android': 1,\n",
              "             'apps': 1,\n",
              "             'art': 2,\n",
              "             'arts': 1,\n",
              "             'autosport': 1,\n",
              "             'baking': 1,\n",
              "             'basketball': 1,\n",
              "             'best': 1,\n",
              "             'cars': 1,\n",
              "             'computers': 1,\n",
              "             'content': 1,\n",
              "             'creating': 1,\n",
              "             'creation': 1,\n",
              "             'cricket': 2,\n",
              "             'doctor': 1,\n",
              "             'entrepreneurship': 1,\n",
              "             'estate': 1,\n",
              "             'figuring': 1,\n",
              "             'games': 1,\n",
              "             'greatest': 1,\n",
              "             'happy': 1,\n",
              "             'hell': 1,\n",
              "             'help': 1,\n",
              "             'helping': 3,\n",
              "             'history': 1,\n",
              "             'innovation': 1,\n",
              "             'job': 1,\n",
              "             'kanbun': 1,\n",
              "             'kundoku': 1,\n",
              "             'learning': 3,\n",
              "             'life': 1,\n",
              "             'like': 1,\n",
              "             'machine': 1,\n",
              "             'make': 1,\n",
              "             'makeup': 1,\n",
              "             'making': 1,\n",
              "             'martial': 1,\n",
              "             'mathematics': 1,\n",
              "             'meeting': 1,\n",
              "             'music': 1,\n",
              "             'new': 3,\n",
              "             'none': 2,\n",
              "             'one': 1,\n",
              "             'others': 2,\n",
              "             'passion': 1,\n",
              "             'people': 4,\n",
              "             'physics': 2,\n",
              "             'products': 1,\n",
              "             'programming': 2,\n",
              "             'real': 1,\n",
              "             'see': 1,\n",
              "             'skincare': 1,\n",
              "             'soccer': 1,\n",
              "             'sports': 1,\n",
              "             'stuff': 1,\n",
              "             'sure': 1,\n",
              "             'tea': 2,\n",
              "             'things': 3,\n",
              "             'travelling': 1,\n",
              "             'trchnologies': 1,\n",
              "             'version': 1,\n",
              "             'video': 1,\n",
              "             'writing': 5,\n",
              "             'yikes': 1})"
            ]
          },
          "metadata": {
            "tags": []
          },
          "execution_count": 27
        }
      ]
    },
    {
      "cell_type": "code",
      "metadata": {
        "id": "4PQASpKMjz4z",
        "colab_type": "code",
        "outputId": "e473b95a-db37-448c-db6c-3104f76d2088",
        "colab": {
          "base_uri": "https://localhost:8080/",
          "height": 1000
        }
      },
      "source": [
        "goal_counts = defaultdict(int)\n",
        "for goals in goals_array:\n",
        "  for goal in goals:\n",
        "    goal_counts[goal] += 1\n",
        "goal_counts"
      ],
      "execution_count": 28,
      "outputs": [
        {
          "output_type": "execute_result",
          "data": {
            "text/plain": [
              "defaultdict(int,\n",
              "            {'10': 1,\n",
              "             '2025': 1,\n",
              "             'achieve': 1,\n",
              "             'also': 1,\n",
              "             'applications': 1,\n",
              "             'athlete': 1,\n",
              "             'back': 1,\n",
              "             'become': 9,\n",
              "             'becoming': 3,\n",
              "             'best': 2,\n",
              "             'better': 2,\n",
              "             'book': 4,\n",
              "             'bring': 1,\n",
              "             'businesswoman': 1,\n",
              "             'captain': 1,\n",
              "             'chance': 1,\n",
              "             'civil': 1,\n",
              "             'clinical': 1,\n",
              "             'comfortable': 1,\n",
              "             'communities': 1,\n",
              "             'community': 1,\n",
              "             'company': 1,\n",
              "             'computing': 1,\n",
              "             'countries': 1,\n",
              "             'day': 1,\n",
              "             'dentist': 1,\n",
              "             'design': 1,\n",
              "             'developer': 1,\n",
              "             'development': 1,\n",
              "             'difference': 1,\n",
              "             'doctor': 1,\n",
              "             'duties': 1,\n",
              "             'engineer': 1,\n",
              "             'enough': 2,\n",
              "             'entrepreneur': 2,\n",
              "             'exotic': 1,\n",
              "             'extraordinary': 1,\n",
              "             'family': 1,\n",
              "             'figuring': 1,\n",
              "             'financial': 2,\n",
              "             'financially': 2,\n",
              "             'fit': 1,\n",
              "             'freedom': 1,\n",
              "             'get': 3,\n",
              "             'getting': 2,\n",
              "             'give': 1,\n",
              "             'globe': 1,\n",
              "             'god': 1,\n",
              "             'good': 1,\n",
              "             'graduate': 1,\n",
              "             'hacker': 1,\n",
              "             'happiness': 2,\n",
              "             'highest': 1,\n",
              "             'hobbies': 1,\n",
              "             'income': 2,\n",
              "             'increase': 1,\n",
              "             'independence': 1,\n",
              "             'independent': 3,\n",
              "             'intelligence': 1,\n",
              "             'investments': 2,\n",
              "             'job': 3,\n",
              "             'life': 1,\n",
              "             'live': 1,\n",
              "             'make': 2,\n",
              "             'management': 1,\n",
              "             'many': 1,\n",
              "             'mathematician': 1,\n",
              "             'matters': 1,\n",
              "             'million': 1,\n",
              "             'mobile': 1,\n",
              "             'multiple': 2,\n",
              "             'none': 1,\n",
              "             'one': 1,\n",
              "             'organization': 1,\n",
              "             'paying': 1,\n",
              "             'peace': 2,\n",
              "             'pension': 1,\n",
              "             'person': 2,\n",
              "             'physically': 1,\n",
              "             'places': 1,\n",
              "             'position': 1,\n",
              "             'post': 1,\n",
              "             'product': 1,\n",
              "             'professional': 1,\n",
              "             'programming': 1,\n",
              "             'psychologist': 1,\n",
              "             'publish': 2,\n",
              "             'published': 1,\n",
              "             'reputable': 1,\n",
              "             'respectable': 1,\n",
              "             'responsibilities': 1,\n",
              "             'retire': 1,\n",
              "             'rich': 1,\n",
              "             'side': 1,\n",
              "             'skilled': 1,\n",
              "             'skills': 1,\n",
              "             'someday': 1,\n",
              "             'something': 1,\n",
              "             'stability': 1,\n",
              "             'stable': 1,\n",
              "             'start': 1,\n",
              "             'still': 1,\n",
              "             'streams': 2,\n",
              "             'successful': 2,\n",
              "             'support': 1,\n",
              "             'tech': 1,\n",
              "             'tesla': 1,\n",
              "             'travel': 1,\n",
              "             'traveling': 1,\n",
              "             'travelling': 1,\n",
              "             'university': 1,\n",
              "             'useful': 1,\n",
              "             'version': 1,\n",
              "             'visiting': 1,\n",
              "             'want': 3,\n",
              "             'wealth': 1,\n",
              "             'well': 1,\n",
              "             'work': 1,\n",
              "             'workd': 1,\n",
              "             'world': 1,\n",
              "             'write': 2,\n",
              "             'yikes': 1})"
            ]
          },
          "metadata": {
            "tags": []
          },
          "execution_count": 28
        }
      ]
    },
    {
      "cell_type": "code",
      "metadata": {
        "id": "89ZDr2IVK9wx",
        "colab_type": "code",
        "colab": {
          "base_uri": "https://localhost:8080/",
          "height": 680
        },
        "outputId": "9478a611-55c6-456b-bbca-86d47562ee39"
      },
      "source": [
        "goals_array"
      ],
      "execution_count": 29,
      "outputs": [
        {
          "output_type": "execute_result",
          "data": {
            "text/plain": [
              "array([list(['publish', 'book', 'design', 'tech', 'product', 'tesla']),\n",
              "       list(['financial', 'freedom', 'traveling', 'globe', 'visiting', 'exotic', 'places']),\n",
              "       list(['extraordinary']), list(['become', 'hacker']),\n",
              "       list(['peace']),\n",
              "       list(['want', 'publish', 'book', 'someday', 'also', 'skilled', 'dentist', 'side']),\n",
              "       list(['yikes']), list(['start', 'company']),\n",
              "       list(['becoming', 'person', 'matters']),\n",
              "       list(['getting', 'rich', 'travelling', 'workd']),\n",
              "       list(['entrepreneur']), list(['become', 'entrepreneur']),\n",
              "       list(['better', 'person']), list(['still', 'figuring']),\n",
              "       list(['travel', 'many', 'countries']), list(['best', 'doctor']),\n",
              "       list(['achieve', 'highest', 'post', 'organization']),\n",
              "       list(['get', 'well', 'paying', 'job']), list(['happiness']),\n",
              "       list(['become', 'independent', 'developer', 'mobile', 'applications']),\n",
              "       list([]),\n",
              "       list(['become', 'clinical', 'psychologist', 'write', 'published', 'book']),\n",
              "       list(['something', 'useful', 'intelligence']),\n",
              "       list(['becoming', 'reputable', 'civil', 'engineer', 'computing', 'management', 'skills']),\n",
              "       list(['captain']), list(['retire', 'pension']),\n",
              "       list(['stability', 'chance', 'want', 'work']),\n",
              "       list(['graduate', 'university', 'get', 'job']),\n",
              "       list(['getting', 'better', 'programming']),\n",
              "       list(['businesswoman', 'one', 'day']),\n",
              "       list(['want', 'financially', 'independent', 'stable', 'family', 'enough', 'wealth', 'give', 'back', 'communities']),\n",
              "       list(['multiple', 'investments', 'streams', 'income']),\n",
              "       list(['multiple', 'investments', 'streams', 'income']),\n",
              "       list(['bring', 'happiness', 'community', 'development']),\n",
              "       list(['become', 'god']),\n",
              "       list(['become', 'successful', 'enough', 'support', 'hobbies']),\n",
              "       list(['financial', 'independence', 'become', 'professional', 'athlete']),\n",
              "       list(['respectable', 'position']), list(['none']),\n",
              "       list(['increase', 'duties', 'responsibilities']),\n",
              "       list(['successful']), list(['make', '10', 'million', '2025']),\n",
              "       list(['peace']), list(['live', 'comfortable', 'life']),\n",
              "       list(['make', 'difference', 'world']),\n",
              "       list(['become', 'financially', 'independent', 'become', 'physically', 'fit']),\n",
              "       list(['write', 'book', 'get', 'good', 'job']),\n",
              "       list(['best', 'version']), list(['becoming', 'mathematician'])],\n",
              "      dtype=object)"
            ]
          },
          "metadata": {
            "tags": []
          },
          "execution_count": 29
        }
      ]
    },
    {
      "cell_type": "code",
      "metadata": {
        "id": "lG9euhL-LHhg",
        "colab_type": "code",
        "colab": {}
      },
      "source": [
        "cleaned_dist = {\"Hobby\":list(hobbies_array), \"Passion\":list(passion_array), \"Goal\":list(goals_array), \"Skills\":list(df[\"IMPORTANT: What are some skills you would like to pick up? These could be both professional or just a hobby. (Limit to 5)\"]), \"Tasks\":list(df[\"IMPORTANT: What are some productive tasks you wish you had more motivation for? (Limit to 5)\"])}"
      ],
      "execution_count": 0,
      "outputs": []
    },
    {
      "cell_type": "code",
      "metadata": {
        "id": "Ix-hzp_lMSWU",
        "colab_type": "code",
        "colab": {}
      },
      "source": [
        "cleaned_df = pd.DataFrame(cleaned_dist)"
      ],
      "execution_count": 0,
      "outputs": []
    },
    {
      "cell_type": "code",
      "metadata": {
        "id": "VNTRrUo7MYRE",
        "colab_type": "code",
        "colab": {}
      },
      "source": [
        "cleaned_df.to_csv(\"cleaned_responses.csv\")"
      ],
      "execution_count": 0,
      "outputs": []
    },
    {
      "cell_type": "code",
      "metadata": {
        "id": "ES43vXyqMiF6",
        "colab_type": "code",
        "colab": {}
      },
      "source": [
        ""
      ],
      "execution_count": 0,
      "outputs": []
    }
  ]
}