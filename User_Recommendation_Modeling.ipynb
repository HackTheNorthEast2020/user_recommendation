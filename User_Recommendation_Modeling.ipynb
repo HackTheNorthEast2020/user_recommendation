{
  "nbformat": 4,
  "nbformat_minor": 0,
  "metadata": {
    "colab": {
      "name": "User Recommendation Modeling",
      "provenance": [],
      "collapsed_sections": []
    },
    "kernelspec": {
      "name": "python3",
      "display_name": "Python 3"
    }
  },
  "cells": [
    {
      "cell_type": "code",
      "metadata": {
        "id": "i4PFRQ0mNiFS",
        "colab_type": "code",
        "colab": {}
      },
      "source": [
        "import pandas as pd\n",
        "import numpy as np"
      ],
      "execution_count": 0,
      "outputs": []
    },
    {
      "cell_type": "code",
      "metadata": {
        "id": "-KOHa7TrZPUR",
        "colab_type": "code",
        "colab": {
          "base_uri": "https://localhost:8080/",
          "height": 204
        },
        "outputId": "054362aa-a931-491b-c38d-f43220c4252b"
      },
      "source": [
        "df = pd.read_csv(\"/content/Personality Quiz - cleaned_responses.csv\")\n",
        "df.head()"
      ],
      "execution_count": 145,
      "outputs": [
        {
          "output_type": "execute_result",
          "data": {
            "text/html": [
              "<div>\n",
              "<style scoped>\n",
              "    .dataframe tbody tr th:only-of-type {\n",
              "        vertical-align: middle;\n",
              "    }\n",
              "\n",
              "    .dataframe tbody tr th {\n",
              "        vertical-align: top;\n",
              "    }\n",
              "\n",
              "    .dataframe thead th {\n",
              "        text-align: right;\n",
              "    }\n",
              "</style>\n",
              "<table border=\"1\" class=\"dataframe\">\n",
              "  <thead>\n",
              "    <tr style=\"text-align: right;\">\n",
              "      <th></th>\n",
              "      <th>Hobby</th>\n",
              "      <th>Passion</th>\n",
              "      <th>Goal</th>\n",
              "      <th>Missions</th>\n",
              "    </tr>\n",
              "  </thead>\n",
              "  <tbody>\n",
              "    <tr>\n",
              "      <th>0</th>\n",
              "      <td>Reading,Writing,Sports,TV Shows,Journaling</td>\n",
              "      <td>Writing</td>\n",
              "      <td>Publish books,Make products,Money</td>\n",
              "      <td>Exercise more,Learn a new sport,Practice techn...</td>\n",
              "    </tr>\n",
              "    <tr>\n",
              "      <th>1</th>\n",
              "      <td>Meditation,Reading,Movies,Trekking,Jogging</td>\n",
              "      <td>Helping</td>\n",
              "      <td>Money,Travel the world</td>\n",
              "      <td>Learn spiritual sciences,Practice technical sk...</td>\n",
              "    </tr>\n",
              "    <tr>\n",
              "      <th>2</th>\n",
              "      <td>Reading</td>\n",
              "      <td>Writing</td>\n",
              "      <td>Difference Maker</td>\n",
              "      <td>Reading</td>\n",
              "    </tr>\n",
              "    <tr>\n",
              "      <th>3</th>\n",
              "      <td>NaN</td>\n",
              "      <td>Coding</td>\n",
              "      <td>Hacker</td>\n",
              "      <td>Practice coding,Learn new programming language</td>\n",
              "    </tr>\n",
              "    <tr>\n",
              "      <th>4</th>\n",
              "      <td>Reading,Writing,Socialising</td>\n",
              "      <td>NaN</td>\n",
              "      <td>Peace</td>\n",
              "      <td>Read a book,Build personal relationships,Do ad...</td>\n",
              "    </tr>\n",
              "  </tbody>\n",
              "</table>\n",
              "</div>"
            ],
            "text/plain": [
              "                                        Hobby  ...                                           Missions\n",
              "0  Reading,Writing,Sports,TV Shows,Journaling  ...  Exercise more,Learn a new sport,Practice techn...\n",
              "1  Meditation,Reading,Movies,Trekking,Jogging  ...  Learn spiritual sciences,Practice technical sk...\n",
              "2                                    Reading   ...                                            Reading\n",
              "3                                         NaN  ...     Practice coding,Learn new programming language\n",
              "4                 Reading,Writing,Socialising  ...  Read a book,Build personal relationships,Do ad...\n",
              "\n",
              "[5 rows x 4 columns]"
            ]
          },
          "metadata": {
            "tags": []
          },
          "execution_count": 145
        }
      ]
    },
    {
      "cell_type": "code",
      "metadata": {
        "id": "FnWwxVjqZTMp",
        "colab_type": "code",
        "colab": {}
      },
      "source": [
        "hobby = list(df[\"Hobby\"])\n",
        "passion = list(df[\"Passion\"])\n",
        "goal = list(df[\"Goal\"])\n",
        "mission = list(df[\"Missions\"])"
      ],
      "execution_count": 0,
      "outputs": []
    },
    {
      "cell_type": "code",
      "metadata": {
        "id": "CPj_1JwQaCXS",
        "colab_type": "code",
        "colab": {}
      },
      "source": [
        "# Generating list of traits and missions in the dataset\n",
        "\n",
        "traits = []\n",
        "for i in range(len(hobby)):\n",
        "  h = hobby[i]\n",
        "  try:\n",
        "    h_list = h.split(\",\")\n",
        "    hobby[i] = h_list\n",
        "    traits.extend(h_list)\n",
        "  except:\n",
        "    continue\n",
        "\n",
        "for i in range(len(passion)):\n",
        "  p = passion[i]\n",
        "  try:\n",
        "    p_list = p.split(\",\")\n",
        "    passion[i] = p_list\n",
        "    traits.extend(p_list)\n",
        "  except:\n",
        "    continue\n",
        "\n",
        "for i in range(len(goal)):\n",
        "  g = goal[i]\n",
        "  try:\n",
        "    g_list = g.split(\",\")\n",
        "    goal[i] = g_list\n",
        "    traits.extend(g_list)\n",
        "  except:\n",
        "    continue\n",
        "\n",
        "missions = []\n",
        "for i in range(len(mission)):\n",
        "  m = mission[i]\n",
        "  try:\n",
        "    m_list = m.split(\",\")\n",
        "    mission[i] = m_list\n",
        "    missions.extend(m_list)\n",
        "  except:\n",
        "    continue"
      ],
      "execution_count": 0,
      "outputs": []
    },
    {
      "cell_type": "code",
      "metadata": {
        "id": "TKN0m67ibJnm",
        "colab_type": "code",
        "colab": {}
      },
      "source": [
        "# Generating unique traits and missions in dataset\n",
        "\n",
        "trait_set = set(traits)\n",
        "mission_set = set(missions)"
      ],
      "execution_count": 0,
      "outputs": []
    },
    {
      "cell_type": "code",
      "metadata": {
        "id": "HFLvYk4Qe9B0",
        "colab_type": "code",
        "colab": {}
      },
      "source": [
        "# Generating indices for trait-mission matrix\n",
        "\n",
        "from collections import defaultdict\n",
        "\n",
        "trait_index = defaultdict(int)\n",
        "mission_index = defaultdict(int)\n",
        "reverse_mission_index = defaultdict(int)\n",
        "\n",
        "i = 0\n",
        "for t in trait_set:\n",
        "  trait_index[t] = i\n",
        "  i += 1\n",
        "\n",
        "i = 0\n",
        "for m in mission_set:\n",
        "  mission_index[m] = i\n",
        "  reverse_mission_index[i] = m\n",
        "  i += 1"
      ],
      "execution_count": 0,
      "outputs": []
    },
    {
      "cell_type": "code",
      "metadata": {
        "id": "iFPr1J8EbwEY",
        "colab_type": "code",
        "colab": {
          "base_uri": "https://localhost:8080/",
          "height": 34
        },
        "outputId": "17781856-0dd6-43ae-f535-a9006a569944"
      },
      "source": [
        "M = np.zeros((len(trait_set),len(mission_set)))\n",
        "M.shape"
      ],
      "execution_count": 150,
      "outputs": [
        {
          "output_type": "execute_result",
          "data": {
            "text/plain": [
              "(83, 32)"
            ]
          },
          "metadata": {
            "tags": []
          },
          "execution_count": 150
        }
      ]
    },
    {
      "cell_type": "code",
      "metadata": {
        "id": "T2hC__btf1HO",
        "colab_type": "code",
        "colab": {
          "base_uri": "https://localhost:8080/",
          "height": 136
        },
        "outputId": "1347b3c1-349a-427c-b288-9cc19274f1ac"
      },
      "source": [
        "# Generating trait-mission matrix\n",
        "\n",
        "for i in range(len(mission)):\n",
        "  try:\n",
        "    for h in hobby[i]:\n",
        "      for m in mission[i]:\n",
        "        M[trait_index[h]][mission_index[m]] += 1\n",
        "  except:\n",
        "    continue\n",
        "  try:\n",
        "    for p in passion[i]:\n",
        "      for m in mission[i]:\n",
        "        M[trait_index[h]][mission_index[m]] += 1\n",
        "  except:\n",
        "    continue\n",
        "  try:\n",
        "    for g in goal[i]:\n",
        "      for m in mission[i]:\n",
        "        M[trait_index[h]][mission_index[m]] += 1\n",
        "  except:\n",
        "    continue\n",
        "\n",
        "M"
      ],
      "execution_count": 151,
      "outputs": [
        {
          "output_type": "execute_result",
          "data": {
            "text/plain": [
              "array([[0., 0., 0., ..., 0., 0., 0.],\n",
              "       [0., 0., 0., ..., 0., 0., 0.],\n",
              "       [0., 0., 0., ..., 0., 0., 0.],\n",
              "       ...,\n",
              "       [0., 0., 0., ..., 0., 0., 0.],\n",
              "       [1., 0., 0., ..., 0., 0., 1.],\n",
              "       [0., 0., 0., ..., 0., 0., 0.]])"
            ]
          },
          "metadata": {
            "tags": []
          },
          "execution_count": 151
        }
      ]
    },
    {
      "cell_type": "code",
      "metadata": {
        "id": "Xn585rAUjzqg",
        "colab_type": "code",
        "colab": {}
      },
      "source": [
        "# # Normalizing column values \n",
        "\n",
        "# for i in range(M.shape[1]):\n",
        "#   sum = M[:, i].sum()\n",
        "#   for j in range(M.shape[0]):\n",
        "#     M[j, i] = M[j, i]/sum"
      ],
      "execution_count": 0,
      "outputs": []
    },
    {
      "cell_type": "code",
      "metadata": {
        "id": "G8fHcW0UlbJP",
        "colab_type": "code",
        "colab": {
          "base_uri": "https://localhost:8080/",
          "height": 88
        },
        "outputId": "2c3e581c-82dd-4c5a-8bd0-7cebaa8268d4"
      },
      "source": [
        "def return_missions(user_traits):\n",
        "  user_vector = np.zeros(M.shape[1])\n",
        "  for trait in user_traits:\n",
        "    user_vector += M[trait_index[trait]]\n",
        "\n",
        "  print(user_vector)\n",
        "\n",
        "  user_missions = []\n",
        "  while user_vector[user_vector.argmax()] != 0:\n",
        "    i = user_vector.argmax()\n",
        "    user_missions.append(reverse_mission_index[i])\n",
        "    user_vector[i] = 0\n",
        "\n",
        "  print(user_missions)\n",
        "\n",
        "\n",
        "test_user = ['Reading', 'Writing']\n",
        "return_missions(test_user)\n"
      ],
      "execution_count": 154,
      "outputs": [
        {
          "output_type": "stream",
          "text": [
            "[ 8.  0.  0. 30.  3.  4.  1.  3.  0.  7.  6.  3.  5.  1.  8.  2.  1.  1.\n",
            "  2.  0. 10.  3.  1.  0.  5.  2.  4.  4.  7.  0.  0.  1.]\n",
            "['Read a book', 'Build personal relationships', 'Help a charity', 'Write a book', 'Make a travel map', 'Exercise more', 'Learn Cooking', 'Make career plan', 'Learn to play an instrument', 'Practice Basketball', 'Learn Leadership', 'Create content in field of interest', 'Practice coding', 'Learn new programming language', 'Practice technical skills', 'Have brainstorming sessions for dream company', 'Learn something new', 'Learn a new sport', 'Do adventure sports', 'Listen to a Audiobook', 'Take up a new project', 'Learn a new dance form', 'Learn spiritual sciences', 'Learn Real Estate', 'Time management']\n"
          ],
          "name": "stdout"
        }
      ]
    },
    {
      "cell_type": "code",
      "metadata": {
        "id": "zMoraHQIoqMf",
        "colab_type": "code",
        "colab": {}
      },
      "source": [
        ""
      ],
      "execution_count": 0,
      "outputs": []
    }
  ]
}